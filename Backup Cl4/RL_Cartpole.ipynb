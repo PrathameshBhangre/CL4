{
 "cells": [
  {
   "cell_type": "code",
   "execution_count": 1,
   "id": "55afd1f3",
   "metadata": {
    "ExecuteTime": {
     "end_time": "2024-04-29T05:12:01.293971500Z",
     "start_time": "2024-04-29T05:11:58.944376300Z"
    }
   },
   "outputs": [
    {
     "name": "stdout",
     "output_type": "stream",
     "text": [
      "Requirement already satisfied: gym in c:\\users\\anike\\appdata\\local\\programs\\python\\python310\\lib\\site-packages (0.26.2)\n",
      "Requirement already satisfied: pygame in c:\\users\\anike\\appdata\\local\\programs\\python\\python310\\lib\\site-packages (2.1.0)\n",
      "Requirement already satisfied: numpy>=1.18.0 in c:\\users\\anike\\appdata\\local\\programs\\python\\python310\\lib\\site-packages (from gym) (1.26.4)\n",
      "Requirement already satisfied: cloudpickle>=1.2.0 in c:\\users\\anike\\appdata\\local\\programs\\python\\python310\\lib\\site-packages (from gym) (3.0.0)\n",
      "Requirement already satisfied: gym-notices>=0.0.4 in c:\\users\\anike\\appdata\\local\\programs\\python\\python310\\lib\\site-packages (from gym) (0.0.8)\n"
     ]
    },
    {
     "name": "stderr",
     "output_type": "stream",
     "text": [
      "\n",
      "[notice] A new release of pip is available: 23.1.2 -> 24.0\n",
      "[notice] To update, run: python.exe -m pip install --upgrade pip\n"
     ]
    }
   ],
   "source": [
    "import sys\n",
    "!{sys.executable} -m pip install gym pygame"
   ]
  },
  {
   "cell_type": "code",
   "execution_count": 2,
   "id": "e2965623",
   "metadata": {
    "ExecuteTime": {
     "end_time": "2024-04-29T05:12:01.714132400Z",
     "start_time": "2024-04-29T05:12:01.283111600Z"
    }
   },
   "outputs": [
    {
     "name": "stdout",
     "output_type": "stream",
     "text": [
      "Action space: Discrete(2)\n",
      "Observation space: Box([-4.8000002e+00 -3.4028235e+38 -4.1887903e-01 -3.4028235e+38], [4.8000002e+00 3.4028235e+38 4.1887903e-01 3.4028235e+38], (4,), float32)\n"
     ]
    }
   ],
   "source": [
    "import gym\n",
    "import pygame\n",
    "import tqdm\n",
    "\n",
    "env = gym.make(\"CartPole-v1\")\n",
    "\n",
    "print(f\"Action space: {env.action_space}\")\n",
    "print(f\"Observation space: {env.observation_space}\")"
   ]
  },
  {
   "cell_type": "code",
   "execution_count": 6,
   "id": "d46092e3",
   "metadata": {
    "ExecuteTime": {
     "end_time": "2024-04-29T05:12:57.850669400Z",
     "start_time": "2024-04-29T05:12:57.828083200Z"
    }
   },
   "outputs": [
    {
     "name": "stdout",
     "output_type": "stream",
     "text": [
      "Obs: [-0.01424357 -0.23246609 -0.03938974  0.25479627]\n",
      "reward: 1.0\n",
      "done: False\n",
      "info: {}\n",
      "[-0.01424357 -0.23246609 -0.03938974  0.25479627] -> 1.0\n",
      "Obs: [-0.01889289 -0.42700413 -0.03429382  0.5347994 ]\n",
      "reward: 1.0\n",
      "done: False\n",
      "info: {}\n",
      "[-0.01889289 -0.42700413 -0.03429382  0.5347994 ] -> 1.0\n",
      "Obs: [-0.02743298 -0.62162745 -0.02359783  0.81648237]\n",
      "reward: 1.0\n",
      "done: False\n",
      "info: {}\n",
      "[-0.02743298 -0.62162745 -0.02359783  0.81648237] -> 1.0\n",
      "Obs: [-0.03986553 -0.42619053 -0.00726818  0.51647145]\n",
      "reward: 1.0\n",
      "done: False\n",
      "info: {}\n",
      "[-0.03986553 -0.42619053 -0.00726818  0.51647145] -> 1.0\n",
      "Obs: [-0.04838934 -0.6212094   0.00306124  0.80685514]\n",
      "reward: 1.0\n",
      "done: False\n",
      "info: {}\n",
      "[-0.04838934 -0.6212094   0.00306124  0.80685514] -> 1.0\n",
      "Obs: [-0.06081352 -0.42612952  0.01919835  0.5151368 ]\n",
      "reward: 1.0\n",
      "done: False\n",
      "info: {}\n",
      "[-0.06081352 -0.42612952  0.01919835  0.5151368 ] -> 1.0\n",
      "Obs: [-0.06933612 -0.23128313  0.02950108  0.22856498]\n",
      "reward: 1.0\n",
      "done: False\n",
      "info: {}\n",
      "[-0.06933612 -0.23128313  0.02950108  0.22856498] -> 1.0\n",
      "Obs: [-0.07396178 -0.42681396  0.03407238  0.5304057 ]\n",
      "reward: 1.0\n",
      "done: False\n",
      "info: {}\n",
      "[-0.07396178 -0.42681396  0.03407238  0.5304057 ] -> 1.0\n",
      "Obs: [-0.08249806 -0.62239826  0.04468049  0.83362716]\n",
      "reward: 1.0\n",
      "done: False\n",
      "info: {}\n",
      "[-0.08249806 -0.62239826  0.04468049  0.83362716] -> 1.0\n",
      "Obs: [-0.09494602 -0.42791432  0.06135304  0.55532414]\n",
      "reward: 1.0\n",
      "done: False\n",
      "info: {}\n",
      "[-0.09494602 -0.42791432  0.06135304  0.55532414] -> 1.0\n",
      "Obs: [-0.10350431 -0.23370503  0.07245952  0.28258476]\n",
      "reward: 1.0\n",
      "done: False\n",
      "info: {}\n",
      "[-0.10350431 -0.23370503  0.07245952  0.28258476] -> 1.0\n",
      "Obs: [-0.10817841 -0.42978168  0.07811122  0.59721243]\n",
      "reward: 1.0\n",
      "done: False\n",
      "info: {}\n",
      "[-0.10817841 -0.42978168  0.07811122  0.59721243] -> 1.0\n",
      "Obs: [-0.11677404 -0.6259048   0.09005547  0.9134414 ]\n",
      "reward: 1.0\n",
      "done: False\n",
      "info: {}\n",
      "[-0.11677404 -0.6259048   0.09005547  0.9134414 ] -> 1.0\n",
      "Obs: [-0.12929215 -0.43210888  0.1083243   0.65036607]\n",
      "reward: 1.0\n",
      "done: False\n",
      "info: {}\n",
      "[-0.12929215 -0.43210888  0.1083243   0.65036607] -> 1.0\n",
      "Obs: [-0.13793431 -0.23864916  0.12133162  0.3936625 ]\n",
      "reward: 1.0\n",
      "done: False\n",
      "info: {}\n",
      "[-0.13793431 -0.23864916  0.12133162  0.3936625 ] -> 1.0\n",
      "Obs: [-0.1427073  -0.04543906  0.12920487  0.141562  ]\n",
      "reward: 1.0\n",
      "done: False\n",
      "info: {}\n",
      "[-0.1427073  -0.04543906  0.12920487  0.141562  ] -> 1.0\n",
      "Obs: [-0.14361608  0.14761846  0.1320361  -0.10772985]\n",
      "reward: 1.0\n",
      "done: False\n",
      "info: {}\n",
      "[-0.14361608  0.14761846  0.1320361  -0.10772985] -> 1.0\n",
      "Obs: [-0.14066371 -0.04912414  0.1298815   0.22352128]\n",
      "reward: 1.0\n",
      "done: False\n",
      "info: {}\n",
      "[-0.14066371 -0.04912414  0.1298815   0.22352128] -> 1.0\n",
      "Obs: [-0.14164619  0.14392535  0.13435194 -0.02553607]\n",
      "reward: 1.0\n",
      "done: False\n",
      "info: {}\n",
      "[-0.14164619  0.14392535  0.13435194 -0.02553607] -> 1.0\n",
      "Obs: [-0.13876769 -0.05284189  0.13384122  0.30633575]\n",
      "reward: 1.0\n",
      "done: False\n",
      "info: {}\n",
      "[-0.13876769 -0.05284189  0.13384122  0.30633575] -> 1.0\n",
      "Obs: [-0.13982452  0.1401442   0.13996793  0.05867748]\n",
      "reward: 1.0\n",
      "done: False\n",
      "info: {}\n",
      "[-0.13982452  0.1401442   0.13996793  0.05867748] -> 1.0\n",
      "Obs: [-0.13702165 -0.05667821  0.14114147  0.3920402 ]\n",
      "reward: 1.0\n",
      "done: False\n",
      "info: {}\n",
      "[-0.13702165 -0.05667821  0.14114147  0.3920402 ] -> 1.0\n",
      "Obs: [-0.1381552  -0.2534915   0.14898229  0.72568244]\n",
      "reward: 1.0\n",
      "done: False\n",
      "info: {}\n",
      "[-0.1381552  -0.2534915   0.14898229  0.72568244] -> 1.0\n",
      "Obs: [-0.14322503 -0.450325    0.16349593  1.061301  ]\n",
      "reward: 1.0\n",
      "done: False\n",
      "info: {}\n",
      "[-0.14322503 -0.450325    0.16349593  1.061301  ] -> 1.0\n",
      "Obs: [-0.15223153 -0.6471897   0.18472195  1.400514  ]\n",
      "reward: 1.0\n",
      "done: False\n",
      "info: {}\n",
      "[-0.15223153 -0.6471897   0.18472195  1.400514  ] -> 1.0\n",
      "Obs: [-0.16517533 -0.45478052  0.21273223  1.1708102 ]\n",
      "reward: 1.0\n",
      "done: True\n",
      "info: {}\n",
      "[-0.16517533 -0.45478052  0.21273223  1.1708102 ] -> 1.0\n",
      "Total reward: 26.0\n"
     ]
    }
   ],
   "source": [
    "env.reset()\n",
    "\n",
    "done = False\n",
    "total_reward = 0\n",
    "while not done:\n",
    "    env.render()\n",
    "    obs, rew, done,_, info = env.step(env.action_space.sample())\n",
    "    print(f\"Obs: {obs}\")\n",
    "    print(f\"reward: {rew}\")\n",
    "    print(f\"done: {done}\")\n",
    "    print(f\"info: {info}\")\n",
    "    total_reward += rew\n",
    "    print(f\"{obs} -> {rew}\")\n",
    "print(f\"Total reward: {total_reward}\")\n",
    "\n",
    "env.close()"
   ]
  },
  {
   "cell_type": "code",
   "execution_count": 3,
   "id": "4f2839b4",
   "metadata": {
    "ExecuteTime": {
     "end_time": "2024-04-29T05:12:01.793309600Z",
     "start_time": "2024-04-29T05:12:01.740003600Z"
    }
   },
   "outputs": [],
   "source": []
  }
 ],
 "metadata": {
  "kernelspec": {
   "display_name": "Python 3 (ipykernel)",
   "language": "python",
   "name": "python3"
  },
  "language_info": {
   "codemirror_mode": {
    "name": "ipython",
    "version": 3
   },
   "file_extension": ".py",
   "mimetype": "text/x-python",
   "name": "python",
   "nbconvert_exporter": "python",
   "pygments_lexer": "ipython3",
   "version": "3.10.9"
  }
 },
 "nbformat": 4,
 "nbformat_minor": 5
}
